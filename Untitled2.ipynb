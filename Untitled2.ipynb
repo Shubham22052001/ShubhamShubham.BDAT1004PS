{
 "cells": [
  {
   "cell_type": "markdown",
   "id": "a14f3f5d",
   "metadata": {},
   "source": [
    "## Problem Set 1"
   ]
  },
  {
   "cell_type": "markdown",
   "id": "5767f3e9",
   "metadata": {},
   "source": [
    "## Question 1 "
   ]
  },
  {
   "cell_type": "code",
   "execution_count": null,
   "id": "b3953272",
   "metadata": {},
   "outputs": [],
   "source": [
    "using System;\n",
    "\n",
    "class Program\n",
    "{\n",
    "    static void Main()\n",
    "    {\n",
    "        int number1 = 5;\n",
    "        double number2 = 5.0;\n",
    "        bool isGreaterThan = 5 > 1;\n",
    "        char character = '5';\n",
    "        int multiplication = 5 * 2;\n",
    "        // char multiplication = '5' * 2; // This line will result in a compilation error\n",
    "        int addition = '5' + '2';\n",
    "        int division = 5 / 2;\n",
    "        int modulus = 5 % 2;\n",
    "        int[] array = new int[] { 5, 2, 1 };\n",
    "        bool isEqual = 5 == 3;\n",
    "        double pi = Math.PI;\n",
    "\n",
    "        Console.WriteLine(\"Data Types:\");\n",
    "        Console.WriteLine(\"number1: \" + number1.GetType());\n",
    "        Console.WriteLine(\"number2: \" + number2.GetType());\n",
    "        Console.WriteLine(\"isGreaterThan: \" + isGreaterThan.GetType());\n",
    "        Console.WriteLine(\"character: \" + character.GetType());\n",
    "        Console.WriteLine(\"multiplication: \" + multiplication.GetType());\n",
    "        // Console.WriteLine(\"multiplication: \" + multiplication.GetType()); // This line will result in a compilation error\n",
    "        Console.WriteLine(\"addition: \" + addition.GetType());\n",
    "        Console.WriteLine(\"division: \" + division.GetType());\n",
    "        Console.WriteLine(\"modulus: \" + modulus.GetType());\n",
    "        Console.WriteLine(\"array: \" + array.GetType());\n",
    "        Console.WriteLine(\"isEqual: \" + isEqual.GetType());\n",
    "        Console.WriteLine(\"pi: \" + pi.GetType());\n",
    "\n",
    "        Console.ReadLine();\n",
    "    }\n",
    "}"
   ]
  },
  {
   "cell_type": "markdown",
   "id": "6ce6745a",
   "metadata": {},
   "source": [
    "Data Types:\n",
    "number1: System.Int32\n",
    "number2: System.Double\n",
    "isGreaterThan: System.Boolean\n",
    "character: System.Char\n",
    "multiplication: System.Int32\n",
    "addition: System.Int32\n",
    "division: System.Int32\n",
    "modulus: System.Int32\n",
    "array: System.Int32[]\n",
    "isEqual: System.Boolean\n",
    "pi: System.Double"
   ]
  },
  {
   "cell_type": "markdown",
   "id": "7ba06bbc",
   "metadata": {},
   "source": [
    "## Question 2"
   ]
  },
  {
   "cell_type": "code",
   "execution_count": null,
   "id": "37b186f8",
   "metadata": {},
   "outputs": [],
   "source": [
    "string word = \"Supercalifragilisticexpialidocious\";\n",
    "int letterCount = word.Length;\n",
    "Console.WriteLine(\"Number of letters: \" + letterCount);"
   ]
  },
  {
   "cell_type": "markdown",
   "id": "c1a55730",
   "metadata": {},
   "source": [
    "Number of letters: 34"
   ]
  },
  {
   "cell_type": "code",
   "execution_count": null,
   "id": "ed6ff005",
   "metadata": {},
   "outputs": [],
   "source": [
    "string word = \"Supercalifragilisticexpialidocious\";\n",
    "bool containsSubstring = word.Contains(\"ice\");\n",
    "Console.WriteLine(\"Contains 'ice' as a substring: \" + containsSubstring);"
   ]
  },
  {
   "cell_type": "markdown",
   "id": "b7eb6419",
   "metadata": {},
   "source": [
    "Contains 'ice' as a substring: True"
   ]
  },
  {
   "cell_type": "code",
   "execution_count": null,
   "id": "207594fd",
   "metadata": {},
   "outputs": [],
   "source": [
    "string word1 = \"Supercalifragilisticexpialidocious\";\n",
    "string word2 = \"Honorificabilitudinitatibus\";\n",
    "string word3 = \"Bababadalgharaghtakamminarronnkonn\";\n",
    "\n",
    "string longestWord = string.Empty;\n",
    "\n",
    "if (word1.Length >= word2.Length && word1.Length >= word3.Length)\n",
    "{\n",
    "    longestWord = word1;\n",
    "}\n",
    "else if (word2.Length >= word1.Length && word2.Length >= word3.Length)\n",
    "{\n",
    "    longestWord = word2;\n",
    "}\n",
    "else if (word3.Length >= word1.Length && word3.Length >= word2.Length)\n",
    "{\n",
    "    longestWord = word3;\n",
    "}\n",
    "\n",
    "Console.WriteLine(\"The longest word is: \" + longestWord);"
   ]
  },
  {
   "cell_type": "markdown",
   "id": "2b7b80aa",
   "metadata": {},
   "source": [
    "The longest word is: Bababadalgharaghtakamminarronnkonn"
   ]
  },
  {
   "cell_type": "code",
   "execution_count": null,
   "id": "dedae6ce",
   "metadata": {},
   "outputs": [],
   "source": [
    "List<string> composers = new List<string>()\n",
    "{\n",
    "    \"Berlioz\", \"Borodin\", \"Brian\", \"Bartok\", \"Bellini\", \"Buxtehude\", \"Bernstein\"\n",
    "};\n",
    "\n",
    "composers.Sort();\n",
    "\n",
    "string firstComposer = composers[0];\n",
    "string lastComposer = composers[composers.Count - 1];\n",
    "\n",
    "Console.WriteLine(\"First composer: \" + firstComposer);\n",
    "Console.WriteLine(\"Last composer: \" + lastComposer);"
   ]
  },
  {
   "cell_type": "markdown",
   "id": "eb5a7d31",
   "metadata": {},
   "source": [
    "First composer: Bartok\n",
    "Last composer: Buxtehude"
   ]
  },
  {
   "cell_type": "markdown",
   "id": "9cfb9508",
   "metadata": {},
   "source": [
    "## Question 3"
   ]
  },
  {
   "cell_type": "code",
   "execution_count": null,
   "id": "58e5ad70",
   "metadata": {},
   "outputs": [],
   "source": [
    "using System;\n",
    "\n",
    "class Program\n",
    "{\n",
    "    static double TriangleArea(double a, double b, double c)\n",
    "    {\n",
    "        double s = (a + b + c) / 2;\n",
    "        double area = Math.Sqrt(s * (s - a) * (s - b) * (s - c));\n",
    "        return area;\n",
    "    }\n",
    "\n",
    "    static void Main()\n",
    "    {\n",
    "        double area = TriangleArea(2, 2, 2);\n",
    "        Console.WriteLine(area);\n",
    "    }\n",
    "}\n"
   ]
  },
  {
   "cell_type": "markdown",
   "id": "bdfba08f",
   "metadata": {},
   "source": [
    "1.7320508075688772"
   ]
  },
  {
   "cell_type": "markdown",
   "id": "01c421de",
   "metadata": {},
   "source": [
    "## Question 4"
   ]
  },
  {
   "cell_type": "code",
   "execution_count": null,
   "id": "53f5e263",
   "metadata": {},
   "outputs": [],
   "source": [
    "using System;\n",
    "\n",
    "class Program\n",
    "{\n",
    "    static void Main()\n",
    "    {\n",
    "        Console.Write(\"Input the number of elements to be stored in the array: \");\n",
    "        int numElements = Convert.ToInt32(Console.ReadLine());\n",
    "\n",
    "        int[] numbers = new int[numElements];\n",
    "\n",
    "        for (int i = 0; i < numElements; i++)\n",
    "        {\n",
    "            Console.Write($\"Element - {i}: \");\n",
    "            numbers[i] = Convert.ToInt32(Console.ReadLine());\n",
    "        }\n",
    "\n",
    "        int[] evenArray = new int[numElements];\n",
    "        int[] oddArray = new int[numElements];\n",
    "        int evenIndex = 0;\n",
    "        int oddIndex = 0;\n",
    "\n",
    "        for (int i = 0; i < numElements; i++)\n",
    "        {\n",
    "            if (numbers[i] % 2 == 0)\n",
    "            {\n",
    "                evenArray[evenIndex] = numbers[i];\n",
    "                evenIndex++;\n",
    "            }\n",
    "            else\n",
    "            {\n",
    "                oddArray[oddIndex] = numbers[i];\n",
    "                oddIndex++;\n",
    "            }\n",
    "        }\n",
    "\n",
    "        Console.Write(\"The Even elements are: \");\n",
    "        for (int i = 0; i < evenIndex; i++)\n",
    "        {\n",
    "            Console.Write(evenArray[i] + \" \");\n",
    "        }\n",
    "\n",
    "        Console.WriteLine();\n",
    "\n",
    "        Console.Write(\"The Odd elements are: \");\n",
    "        for (int i = 0; i < oddIndex; i++)\n",
    "        {\n",
    "            Console.Write(oddArray[i] + \" \");\n",
    "        }\n",
    "\n",
    "        Console.WriteLine();\n",
    "    }\n",
    "}\n"
   ]
  },
  {
   "cell_type": "markdown",
   "id": "774c350b",
   "metadata": {},
   "source": [
    "Input the number of elements to be stored in the array: 5\n",
    "Input 5 elements in the array:\n",
    "Element - 0: 25\n",
    "Element - 1: 47\n",
    "Element - 2: 42\n",
    "Element - 3: 56\n",
    "Element - 4: 32\n",
    "The Even elements are: 42 56 32\n",
    "The Odd elements are: 25 47\n"
   ]
  },
  {
   "cell_type": "markdown",
   "id": "cfa21c76",
   "metadata": {},
   "source": [
    "## Question 5"
   ]
  },
  {
   "cell_type": "code",
   "execution_count": null,
   "id": "3b871887",
   "metadata": {},
   "outputs": [],
   "source": [
    "using System;\n",
    "\n",
    "class Program\n",
    "{\n",
    "    static bool Inside(double x, double y, double x1, double y1, double x2, double y2)\n",
    "    {\n",
    "        if (x >= x1 && x <= x2 && y >= y1 && y <= y2)\n",
    "        {\n",
    "            return true;\n",
    "        }\n",
    "        else\n",
    "        {\n",
    "            return false;\n",
    "        }\n",
    "    }\n",
    "\n",
    "    static void Main()\n",
    "    {\n",
    "        bool isInRectangle1 = Inside(1, 1, 0, 0, 2, 3);\n",
    "        bool isInRectangle2 = Inside(-1, -1, 0, 0, 2, 3);\n",
    "\n",
    "        Console.WriteLine(\"Is (1,1) inside rectangle 1: \" + isInRectangle1);\n",
    "        Console.WriteLine(\"Is (-1,-1) inside rectangle 2: \" + isInRectangle2);\n",
    "\n",
    "        bool isInBothRectangles = Inside(1, 1, 0.3, 0.5, 1.1, 0.7) && Inside(1, 1, 0.5, 0.2, 1.1, 2);\n",
    "        Console.WriteLine(\"Is (1,1) inside both rectangles: \" + isInBothRectangles);\n",
    "    }\n",
    "}\n"
   ]
  },
  {
   "cell_type": "markdown",
   "id": "31c190b7",
   "metadata": {},
   "source": [
    "Is (1,1) inside rectangle 1: True\n",
    "Is (-1,-1) inside rectangle 2: False\n",
    "Is (1,1) inside both rectangles: False"
   ]
  },
  {
   "cell_type": "markdown",
   "id": "df897ca6",
   "metadata": {},
   "source": [
    "## Question 6"
   ]
  },
  {
   "cell_type": "code",
   "execution_count": 5,
   "id": "80a25d3e",
   "metadata": {},
   "outputs": [
    {
     "name": "stdout",
     "output_type": "stream",
     "text": [
      "appyhay\n",
      "enterway\n"
     ]
    }
   ],
   "source": [
    "def pig(word):\n",
    "    word = word.lower()  # Convert word to lowercase\n",
    "\n",
    "    vowels = ['a', 'e', 'i', 'o', 'u']\n",
    "    first_letter = word[0]\n",
    "\n",
    "    if first_letter in vowels:\n",
    "        pig_word = word + 'way'\n",
    "    else:\n",
    "        pig_word = word[1:] + first_letter + 'ay'\n",
    "\n",
    "    return pig_word\n",
    "\n",
    "# Test the pig() function\n",
    "print(pig('happy'))\n",
    "print(pig('Enter'))\n"
   ]
  },
  {
   "cell_type": "markdown",
   "id": "eb7e7201",
   "metadata": {},
   "source": [
    "## Question 7"
   ]
  },
  {
   "cell_type": "code",
   "execution_count": 11,
   "id": "60ff5d53",
   "metadata": {},
   "outputs": [
    {
     "name": "stdout",
     "output_type": "stream",
     "text": [
      "['AB', 'AB', 'B', 'O', 'A', 'A', 'AB', 'O', 'AB', 'A', 'O', 'O', 'A', 'A', 'A', 'O', 'O', 'O', 'AB', 'O', 'A', 'A', 'A', 'A', 'A', 'AB', 'AB', 'A', 'AB', 'O', 'AB', 'O', 'A', 'O', 'O', 'O', 'AB', 'O', 'AB', 'AB', 'AB', 'A', 'A', 'O']\n",
      "The length of the list : 44\n",
      "There are 13 patients of blood type AB\n",
      "There are 15 patients of blood type A\n",
      "There are 1 patients of blood type B\n",
      "There are 15 patients of blood type O\n",
      "There are 0 patients of blood type OO\n"
     ]
    }
   ],
   "source": [
    "def bldcount(file):\n",
    "    print(\"There are\",file.count(\"AB\"), \"patients of blood type AB\")\n",
    "    print(\"There are\",file.count(\"A\") ,\"patients of blood type A\")\n",
    "    print(\"There are\",file.count(\"B\"),\"patients of blood type B\")\n",
    "    print(\"There are\",file.count(\"O\"),\"patients of blood type O\")\n",
    "    print(\"There are\",file.count(\"OO\"),\"patients of blood type OO\")\n",
    "\n",
    "list=open(\"bloodtype.txt\")\n",
    "y=list.read()\n",
    "file=y.split()\n",
    "print(file)\n",
    "print(\"The length of the list :\",len(file))\n",
    "\n",
    "\n",
    "bldcount(file)\n"
   ]
  },
  {
   "cell_type": "markdown",
   "id": "c4b1a278",
   "metadata": {},
   "source": [
    "## Question 8"
   ]
  },
  {
   "cell_type": "code",
   "execution_count": 12,
   "id": "7792f8c1",
   "metadata": {},
   "outputs": [
    {
     "name": "stdout",
     "output_type": "stream",
     "text": [
      "Enter the amount: 859\n",
      "Enter the currency: EUR\n",
      "859.00 EUR is equal to 1056.27 USD\n"
     ]
    }
   ],
   "source": [
    "def currency_converter(amount, currency):\n",
    "  conversion_rates = {'AUD': 1.0345157,'CHF':1.0237414,'CNY':0.1550176,'DKK':0.1651442,\n",
    "               'EUR':1.2296544,'GBP':1.5550989,'HKD':0.1270207, 'INR':0.0177643,\n",
    "               'JPY': 0.01241401,'MXN': 0.0751848,'MYR': 0.3145411,'NOK':0.1677063,\n",
    "               'NZD':0.8003591,'PHP':0.0233234,'SEK':0.148269,'SGD':0.788871,'THB':0.0313789}   #Dictionary of currency rates.\n",
    "  \n",
    "  conversion_rate = conversion_rates.get(currency, 0)\n",
    "  if conversion_rate == 0:\n",
    "    return None\n",
    "  \n",
    "  return amount * conversion_rate\n",
    "\n",
    "amount = float(input(\"Enter the amount: \"))\n",
    "currency = input(\"Enter the currency: \")\n",
    "\n",
    "usd = currency_converter(amount, currency)\n",
    "if usd is None:\n",
    "  print(\"Invalid currency\")\n",
    "else:\n",
    "  print(\"{0:.2f}\".format(amount), currency, \"is equal to\", \"{0:.2f}\".format(usd), \"USD\")"
   ]
  },
  {
   "cell_type": "markdown",
   "id": "bf8ad504",
   "metadata": {},
   "source": [
    "## Question 9"
   ]
  },
  {
   "cell_type": "markdown",
   "id": "5d1e7354",
   "metadata": {},
   "source": [
    "The types of exceptions that each situation will bring about are as follows:\n",
    "\n",
    "Incompatible variable addition attempts, such as adding 6 plus \"a,\" may result in a TypeError exception. This is due to the fact that adding an integer (type 6), which is incompatible for addition, to a string (type a).\n",
    "\n",
    "\n",
    "An IndexError exception will be generated if the 12th item in a list with only 10 entries is referenced. This is due to the fact that lists in Python are zero-indexed, meaning that if a list has 10 items, the valid indexes are between 0 and 9. An IndexError will be raised if try to access the 12th item, which is out of bounds.\n",
    "A FileNotFoundError exception will be thrown if attempted to open a file that does not exist, for example, by inputting the file name incorrectly or searching in the wrong directory. When the file being opened cannot be located at the given location or with the given file name, an exception is raised.\n",
    "\n",
    "A ValueError exception will be raised if an out-of-range value is used as a function's argument, such as when calling math.sqrt(-1.0). While computing a number's square root, the math.sqrt() function does not handle negative numbers. A ValueError will therefore be generated if a negative number is supplied as the parameter.\n",
    "\n",
    "A NameError exception will be thrown if an undeclared variable is used, such as print(x) when x has not been defined. This happens as a result of the variable x not having a value set to it or having been declared before being used in the print() statement, which causes a NameError.\n",
    "\n",
    "\n",
    "\n",
    "\n",
    "\n"
   ]
  },
  {
   "cell_type": "markdown",
   "id": "2814535a",
   "metadata": {},
   "source": [
    "## Question 10"
   ]
  },
  {
   "cell_type": "code",
   "execution_count": 13,
   "id": "70bdbef3",
   "metadata": {},
   "outputs": [
    {
     "name": "stdout",
     "output_type": "stream",
     "text": [
      "[1, 1, 1, 3, 5, 1, 1, 2, 1, 0, 1, 0, 1, 2, 4, 0, 1, 2, 0, 3, 1, 0, 1, 1, 0, 0]\n",
      "[1, 0, 0, 0, 1, 0, 0, 0, 0, 0, 0, 1, 0, 0, 0, 2, 0, 0, 0, 0, 0, 0, 0, 0, 0, 0]\n"
     ]
    }
   ],
   "source": [
    "def frequencies(text):\n",
    "    letters = 'abcdefghijklmnopqrstuvwxyz'\n",
    "    freq_list = [0] * len(letters)\n",
    "\n",
    "    for char in text.lower():\n",
    "        if char in letters:\n",
    "            index = letters.index(char)\n",
    "            freq_list[index] += 1\n",
    "\n",
    "    return freq_list\n",
    "\n",
    "# Test the frequencies() function\n",
    "print(frequencies('The quick red fox got bored and went home.'))\n",
    "print(frequencies('apple'))\n"
   ]
  }
 ],
 "metadata": {
  "kernelspec": {
   "display_name": "Python 3 (ipykernel)",
   "language": "python",
   "name": "python3"
  },
  "language_info": {
   "codemirror_mode": {
    "name": "ipython",
    "version": 3
   },
   "file_extension": ".py",
   "mimetype": "text/x-python",
   "name": "python",
   "nbconvert_exporter": "python",
   "pygments_lexer": "ipython3",
   "version": "3.10.9"
  }
 },
 "nbformat": 4,
 "nbformat_minor": 5
}
